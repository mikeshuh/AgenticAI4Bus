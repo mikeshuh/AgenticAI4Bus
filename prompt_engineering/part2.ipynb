{
 "cells": [
  {
   "cell_type": "markdown",
   "metadata": {},
   "source": [
    "# Task 2: Code Generation with ReACT Prompting\n",
    "\n",
    "## Overview\n",
    "This notebook demonstrates **ReACT (Reasoning + Acting)** prompting, a technique that combines reasoning traces with task-specific actions. The LLM explicitly shows its thought process before taking action.\n",
    "\n",
    "## ReACT Pattern\n",
    "- **Thought**: Reasoning about what needs to be done\n",
    "- **Action**: The specific action taken (code generation)\n",
    "- **Observation**: What was accomplished\n",
    "\n",
    "## Use Case\n",
    "Generate Python code to analyze a sales dataset using the ReACT framework, then execute the generated code."
   ]
  },
  {
   "cell_type": "code",
   "execution_count": 1,
   "metadata": {},
   "outputs": [
    {
     "name": "stdout",
     "output_type": "stream",
     "text": [
      "✓ Gemini client initialized successfully\n"
     ]
    }
   ],
   "source": [
    "# Import required libraries\n",
    "import os\n",
    "from google import genai\n",
    "from dotenv import load_dotenv\n",
    "import pandas as pd\n",
    "import matplotlib.pyplot as plt\n",
    "from datetime import datetime, timedelta\n",
    "\n",
    "# Load environment variables\n",
    "load_dotenv()\n",
    "\n",
    "# Initialize the Gemini client\n",
    "client = genai.Client(api_key=os.getenv('GEMINI_API_KEY'))\n",
    "\n",
    "print(\"✓ Gemini client initialized successfully\")"
   ]
  },
  {
   "cell_type": "markdown",
   "metadata": {},
   "source": [
    "## Create Sample Sales Data\n",
    "First, let's create a sample CSV dataset to analyze:"
   ]
  },
  {
   "cell_type": "code",
   "execution_count": 2,
   "metadata": {},
   "outputs": [
    {
     "name": "stdout",
     "output_type": "stream",
     "text": [
      "✓ Sample sales data created and saved to 'sales_data.csv'\n",
      "\n",
      "First few rows:\n",
      "         date     product  quantity   price\n",
      "0  2025-10-06      Laptop         1  299.99\n",
      "1  2025-10-05       Mouse         2   19.99\n",
      "2  2025-10-04    Keyboard         3   49.99\n",
      "3  2025-10-03     Monitor         4  199.99\n",
      "4  2025-10-02  Headphones         5   79.99\n",
      "5  2025-10-01      Laptop         6  299.99\n",
      "6  2025-09-30       Mouse         7   19.99\n",
      "7  2025-09-29    Keyboard         8   49.99\n",
      "8  2025-09-28     Monitor         9  199.99\n",
      "9  2025-09-27  Headphones        10   79.99\n"
     ]
    }
   ],
   "source": [
    "# Generate sample sales data\n",
    "dates = [(datetime.now() - timedelta(days=x)).strftime('%Y-%m-%d') for x in range(30)]\n",
    "products = ['Laptop', 'Mouse', 'Keyboard', 'Monitor', 'Headphones']\n",
    "\n",
    "data = {\n",
    "    'date': [dates[i % 30] for i in range(50)],\n",
    "    'product': [products[i % 5] for i in range(50)],\n",
    "    'quantity': [i % 10 + 1 for i in range(50)],\n",
    "    'price': [299.99 if i % 5 == 0 else 19.99 if i % 5 == 1 else 49.99 if i % 5 == 2 else 199.99 if i % 5 == 3 else 79.99 for i in range(50)]\n",
    "}\n",
    "\n",
    "df = pd.DataFrame(data)\n",
    "df.to_csv('sales_data.csv', index=False)\n",
    "\n",
    "print(\"✓ Sample sales data created and saved to 'sales_data.csv'\")\n",
    "print(\"\\nFirst few rows:\")\n",
    "print(df.head(10))"
   ]
  },
  {
   "cell_type": "markdown",
   "metadata": {},
   "source": [
    "## ReACT Prompt: Generate Code with Reasoning\n",
    "Now let's use the ReACT framework to generate code. The AI will show its reasoning (Thought) before each action (Code)."
   ]
  },
  {
   "cell_type": "code",
   "execution_count": 3,
   "metadata": {},
   "outputs": [
    {
     "name": "stdout",
     "output_type": "stream",
     "text": [
      "ReACT Code Generation Output:\n",
      "================================================================================\n",
      "Thought: I need to load the sales data from a CSV file into a pandas DataFrame. This will allow me to manipulate and analyze the data.\n",
      "Action:\n",
      "```python\n",
      "import pandas as pd\n",
      "\n",
      "# Load the CSV file into a pandas DataFrame\n",
      "try:\n",
      "    df = pd.read_csv('sales_data.csv')\n",
      "except FileNotFoundError:\n",
      "    print(\"Error: sales_data.csv not found. Creating a sample dataframe for demonstration.\")\n",
      "    df = pd.DataFrame({\n",
      "        'date': ['2023-01-01', '2023-01-01', '2023-01-02', '2023-01-02'],\n",
      "        'product': ['A', 'B', 'A', 'C'],\n",
      "        'quantity': [10, 5, 12, 8],\n",
      "        'price': [20.0, 30.0, 20.0, 25.0]\n",
      "    })\n",
      "except Exception as e:\n",
      "    print(f\"An error occurred: {e}\")\n",
      "    df = None\n",
      "\n",
      "```\n",
      "Observation: The code loads the sales data from the specified CSV file into a pandas DataFrame named `df`. If the file is not found, it creates a sample dataframe. If any other error occurs during the process, it prints the error message and assigns `None` to `df`.\n",
      "\n",
      "Thought: Now I need to calculate the total revenue. First, I'll add a new column 'revenue' to the DataFrame, which is the product of 'quantity' and 'price'. Then, I'll sum the 'revenue' column to get the total revenue.\n",
      "Action:\n",
      "```python\n",
      "if df is not None:\n",
      "    # Calculate revenue for each sale\n",
      "    df['revenue'] = df['quantity'] * df['price']\n",
      "\n",
      "    # Calculate total revenue\n",
      "    total_revenue = df['revenue'].sum()\n",
      "\n",
      "    print(f\"Total Revenue: {total_revenue}\")\n",
      "else:\n",
      "    print(\"DataFrame is not loaded, skipping revenue calculation.\")\n",
      "```\n",
      "Observation: The code calculates the revenue for each sale by multiplying the 'quantity' and 'price' columns and stores it in a new 'revenue' column. Then it calculates the total revenue by summing the 'revenue' column and prints the result. If the DataFrame wasn't loaded, it skips the calculation.\n",
      "\n",
      "Thought: Next, I want to find the best-selling product. I'll group the DataFrame by 'product' and sum the 'quantity' for each product. Then I'll find the product with the maximum quantity.\n",
      "Action:\n",
      "```python\n",
      "if df is not None:\n",
      "    # Group by product and sum the quantity\n",
      "    product_sales = df.groupby('product')['quantity'].sum()\n",
      "\n",
      "    # Find the best-selling product\n",
      "    best_selling_product = product_sales.idxmax()\n",
      "    best_selling_quantity = product_sales.max()\n",
      "\n",
      "    print(f\"Best Selling Product: {best_selling_product} (Quantity: {best_selling_quantity})\")\n",
      "else:\n",
      "    print(\"DataFrame is not loaded, skipping best-selling product analysis.\")\n",
      "```\n",
      "Observation: The code groups the DataFrame by 'product' and calculates the sum of the 'quantity' for each product. It then identifies the product with the highest total quantity as the best-selling product and prints the product name and total quantity. If the DataFrame wasn't loaded, it skips the calculation.\n",
      "\n",
      "Thought: Finally, I'll create a bar chart visualization of revenue by product. I'll group the DataFrame by 'product', sum the 'revenue', and then use matplotlib to generate a bar chart.\n",
      "Action:\n",
      "```python\n",
      "import matplotlib.pyplot as plt\n",
      "\n",
      "if df is not None:\n",
      "    # Group by product and sum the revenue\n",
      "    product_revenue = df.groupby('product')['revenue'].sum()\n",
      "\n",
      "    # Create a bar chart of revenue by product\n",
      "    plt.figure(figsize=(10, 6))\n",
      "    product_revenue.plot(kind='bar', color='skyblue')\n",
      "    plt.title('Revenue by Product')\n",
      "    plt.xlabel('Product')\n",
      "    plt.ylabel('Revenue')\n",
      "    plt.xticks(rotation=45, ha='right')\n",
      "    plt.tight_layout()\n",
      "    plt.show()\n",
      "else:\n",
      "    print(\"DataFrame is not loaded, skipping visualization.\")\n",
      "```\n",
      "Observation: The code groups the DataFrame by 'product' and calculates the sum of the 'revenue' for each product. Then, it generates a bar chart visualizing the revenue for each product using matplotlib. The chart displays product names on the x-axis and revenue on the y-axis. The chart is then displayed. If the DataFrame wasn't loaded, it skips the visualization.\n",
      "\n",
      "================================================================================\n"
     ]
    }
   ],
   "source": [
    "react_prompt = \"\"\"\n",
    "You are a Python coding assistant using the ReACT framework (Reasoning + Acting). Generate code to analyze a CSV dataset containing sales data with columns: date, product, quantity, price.\n",
    "\n",
    "Use this format for EACH step:\n",
    "Thought: [Your reasoning about what needs to be done]\n",
    "Action: [The code you will write - provide ONLY the Python code, no markdown code blocks]\n",
    "Observation: [What this code accomplishes]\n",
    "\n",
    "Generate code for these steps in sequence:\n",
    "1. Load the CSV file (sales_data.csv)\n",
    "2. Calculate total revenue by adding a revenue column (quantity * price) and summing it\n",
    "3. Find the best-selling product by grouping by product and summing quantities\n",
    "4. Create a bar chart visualization of revenue by product\n",
    "\n",
    "Follow the Thought-Action-Observation pattern for each step. Make sure each Action contains only executable Python code without markdown formatting.\n",
    "\"\"\"\n",
    "\n",
    "response = client.models.generate_content(\n",
    "    model='gemini-2.0-flash-exp',\n",
    "    contents=react_prompt\n",
    ")\n",
    "\n",
    "react_output = response.text\n",
    "print(\"ReACT Code Generation Output:\")\n",
    "print(\"=\" * 80)\n",
    "print(react_output)\n",
    "print(\"=\" * 80)"
   ]
  },
  {
   "cell_type": "markdown",
   "metadata": {},
   "source": [
    "## Extract and Execute Generated Code\n",
    "Let's extract the code from the ReACT output and execute it to see the results:"
   ]
  },
  {
   "cell_type": "code",
   "execution_count": 4,
   "metadata": {},
   "outputs": [
    {
     "name": "stdout",
     "output_type": "stream",
     "text": [
      "\n",
      "Extracted 4 code blocks from ReACT output.\n",
      "\n",
      "Executing generated code...\n",
      "\n",
      "================================================================================\n"
     ]
    }
   ],
   "source": [
    "import re\n",
    "\n",
    "# Extract code blocks from the ReACT output\n",
    "# Look for code after \"Action:\" labels\n",
    "def extract_code_blocks(text):\n",
    "    \"\"\"Extract code blocks from ReACT output.\"\"\"\n",
    "    code_blocks = []\n",
    "    \n",
    "    # Split by \"Action:\" to find code sections\n",
    "    sections = text.split('Action:')\n",
    "    \n",
    "    for section in sections[1:]:  # Skip first split (before first Action:)\n",
    "        # Get text until next \"Thought:\" or \"Observation:\"\n",
    "        if 'Observation:' in section:\n",
    "            code_text = section.split('Observation:')[0].strip()\n",
    "        elif 'Thought:' in section:\n",
    "            code_text = section.split('Thought:')[0].strip()\n",
    "        else:\n",
    "            code_text = section.strip()\n",
    "        \n",
    "        # Remove markdown code blocks if present\n",
    "        code_text = re.sub(r'^```python\\s*', '', code_text)\n",
    "        code_text = re.sub(r'^```\\s*', '', code_text)\n",
    "        code_text = re.sub(r'\\s*```$', '', code_text)\n",
    "        code_text = code_text.strip()\n",
    "        \n",
    "        if code_text:\n",
    "            code_blocks.append(code_text)\n",
    "    \n",
    "    return code_blocks\n",
    "\n",
    "code_blocks = extract_code_blocks(react_output)\n",
    "\n",
    "print(f\"\\nExtracted {len(code_blocks)} code blocks from ReACT output.\")\n",
    "print(\"\\nExecuting generated code...\\n\")\n",
    "print(\"=\" * 80)"
   ]
  },
  {
   "cell_type": "markdown",
   "metadata": {},
   "source": [
    "## Execute Step 1: Load the CSV File"
   ]
  },
  {
   "cell_type": "code",
   "execution_count": 5,
   "metadata": {},
   "outputs": [
    {
     "name": "stdout",
     "output_type": "stream",
     "text": [
      "Executing Step 1: Load CSV\n",
      "\n",
      "Generated Code:\n",
      "import pandas as pd\n",
      "\n",
      "# Load the CSV file into a pandas DataFrame\n",
      "try:\n",
      "    df = pd.read_csv('sales_data.csv')\n",
      "except FileNotFoundError:\n",
      "    print(\"Error: sales_data.csv not found. Creating a sample dataframe for demonstration.\")\n",
      "    df = pd.DataFrame({\n",
      "        'date': ['2023-01-01', '2023-01-01', '2023-01-02', '2023-01-02'],\n",
      "        'product': ['A', 'B', 'A', 'C'],\n",
      "        'quantity': [10, 5, 12, 8],\n",
      "        'price': [20.0, 30.0, 20.0, 25.0]\n",
      "    })\n",
      "except Exception as e:\n",
      "    print(f\"An error occurred: {e}\")\n",
      "    df = None\n",
      "\n",
      "Output:\n",
      "\n",
      "================================================================================\n"
     ]
    }
   ],
   "source": [
    "if len(code_blocks) > 0:\n",
    "    print(\"Executing Step 1: Load CSV\\n\")\n",
    "    print(\"Generated Code:\")\n",
    "    print(code_blocks[0])\n",
    "    print(\"\\nOutput:\")\n",
    "    exec(code_blocks[0])\n",
    "    print(\"\\n\" + \"=\" * 80)\n",
    "else:\n",
    "    print(\"No code blocks found. Manual execution:\")\n",
    "    df = pd.read_csv('sales_data.csv')\n",
    "    print(df.head())"
   ]
  },
  {
   "cell_type": "markdown",
   "metadata": {},
   "source": [
    "## Execute Step 2: Calculate Total Revenue"
   ]
  },
  {
   "cell_type": "code",
   "execution_count": 6,
   "metadata": {},
   "outputs": [
    {
     "name": "stdout",
     "output_type": "stream",
     "text": [
      "Executing Step 2: Calculate Revenue\n",
      "\n",
      "Generated Code:\n",
      "if df is not None:\n",
      "    # Calculate revenue for each sale\n",
      "    df['revenue'] = df['quantity'] * df['price']\n",
      "\n",
      "    # Calculate total revenue\n",
      "    total_revenue = df['revenue'].sum()\n",
      "\n",
      "    print(f\"Total Revenue: {total_revenue}\")\n",
      "else:\n",
      "    print(\"DataFrame is not loaded, skipping revenue calculation.\")\n",
      "\n",
      "Output:\n",
      "Total Revenue: 33147.25\n",
      "\n",
      "================================================================================\n"
     ]
    }
   ],
   "source": [
    "if len(code_blocks) > 1:\n",
    "    print(\"Executing Step 2: Calculate Revenue\\n\")\n",
    "    print(\"Generated Code:\")\n",
    "    print(code_blocks[1])\n",
    "    print(\"\\nOutput:\")\n",
    "    exec(code_blocks[1])\n",
    "    print(\"\\n\" + \"=\" * 80)\n",
    "else:\n",
    "    print(\"Fallback: Manual execution\")\n",
    "    df['revenue'] = df['quantity'] * df['price']\n",
    "    total_revenue = df['revenue'].sum()\n",
    "    print(f\"Total Revenue: ${total_revenue:,.2f}\")"
   ]
  },
  {
   "cell_type": "markdown",
   "metadata": {},
   "source": [
    "## Execute Step 3: Find Best-Selling Product"
   ]
  },
  {
   "cell_type": "code",
   "execution_count": 7,
   "metadata": {},
   "outputs": [
    {
     "name": "stdout",
     "output_type": "stream",
     "text": [
      "Executing Step 3: Find Best-Selling Product\n",
      "\n",
      "Generated Code:\n",
      "if df is not None:\n",
      "    # Group by product and sum the quantity\n",
      "    product_sales = df.groupby('product')['quantity'].sum()\n",
      "\n",
      "    # Find the best-selling product\n",
      "    best_selling_product = product_sales.idxmax()\n",
      "    best_selling_quantity = product_sales.max()\n",
      "\n",
      "    print(f\"Best Selling Product: {best_selling_product} (Quantity: {best_selling_quantity})\")\n",
      "else:\n",
      "    print(\"DataFrame is not loaded, skipping best-selling product analysis.\")\n",
      "\n",
      "Output:\n",
      "Best Selling Product: Headphones (Quantity: 75)\n",
      "\n",
      "================================================================================\n"
     ]
    }
   ],
   "source": [
    "if len(code_blocks) > 2:\n",
    "    print(\"Executing Step 3: Find Best-Selling Product\\n\")\n",
    "    print(\"Generated Code:\")\n",
    "    print(code_blocks[2])\n",
    "    print(\"\\nOutput:\")\n",
    "    exec(code_blocks[2])\n",
    "    print(\"\\n\" + \"=\" * 80)\n",
    "else:\n",
    "    print(\"Fallback: Manual execution\")\n",
    "    product_summary = df.groupby('product').agg({'quantity': 'sum', 'revenue': 'sum'}).sort_values('quantity', ascending=False)\n",
    "    print(product_summary)"
   ]
  },
  {
   "cell_type": "markdown",
   "metadata": {},
   "source": [
    "## Execute Step 4: Create Visualization"
   ]
  },
  {
   "cell_type": "code",
   "execution_count": 8,
   "metadata": {},
   "outputs": [
    {
     "name": "stdout",
     "output_type": "stream",
     "text": [
      "Executing Step 4: Create Visualization\n",
      "\n",
      "Generated Code:\n",
      "import matplotlib.pyplot as plt\n",
      "\n",
      "if df is not None:\n",
      "    # Group by product and sum the revenue\n",
      "    product_revenue = df.groupby('product')['revenue'].sum()\n",
      "\n",
      "    # Create a bar chart of revenue by product\n",
      "    plt.figure(figsize=(10, 6))\n",
      "    product_revenue.plot(kind='bar', color='skyblue')\n",
      "    plt.title('Revenue by Product')\n",
      "    plt.xlabel('Product')\n",
      "    plt.ylabel('Revenue')\n",
      "    plt.xticks(rotation=45, ha='right')\n",
      "    plt.tight_layout()\n",
      "    plt.show()\n",
      "else:\n",
      "    print(\"DataFrame is not loaded, skipping visualization.\")\n",
      "\n",
      "Output:\n"
     ]
    },
    {
     "data": {
      "image/png": "[encoded data removed]",
      "text/plain": [
       "<Figure size 1000x600 with 1 Axes>"
      ]
     },
     "metadata": {},
     "output_type": "display_data"
    },
    {
     "name": "stdout",
     "output_type": "stream",
     "text": [
      "\n",
      "================================================================================\n"
     ]
    }
   ],
   "source": [
    "if len(code_blocks) > 3:\n",
    "    print(\"Executing Step 4: Create Visualization\\n\")\n",
    "    print(\"Generated Code:\")\n",
    "    print(code_blocks[3])\n",
    "    print(\"\\nOutput:\")\n",
    "    exec(code_blocks[3])\n",
    "    print(\"\\n\" + \"=\" * 80)\n",
    "else:\n",
    "    print(\"Fallback: Manual execution\")\n",
    "    if 'product_summary' not in locals():\n",
    "        product_summary = df.groupby('product').agg({'quantity': 'sum', 'revenue': 'sum'})\n",
    "    plt.figure(figsize=(10, 6))\n",
    "    product_summary['revenue'].plot(kind='bar', color='steelblue')\n",
    "    plt.title('Revenue by Product')\n",
    "    plt.xlabel('Product')\n",
    "    plt.ylabel('Revenue ($)')\n",
    "    plt.xticks(rotation=45)\n",
    "    plt.tight_layout()\n",
    "    plt.show()"
   ]
  },
  {
   "cell_type": "markdown",
   "metadata": {},
   "source": [
    "## Analysis Summary"
   ]
  },
  {
   "cell_type": "code",
   "execution_count": 9,
   "metadata": {},
   "outputs": [
    {
     "name": "stdout",
     "output_type": "stream",
     "text": [
      "\n",
      "================================================================================\n",
      "REACT ANALYSIS SUMMARY\n",
      "================================================================================\n",
      "\n",
      "📊 Total Revenue: $33,147.25\n",
      "📈 Total Transactions: 50\n",
      "\n",
      "✓ ReACT code generation and execution completed successfully!\n",
      "================================================================================\n"
     ]
    }
   ],
   "source": [
    "# Display final results\n",
    "print(\"\\n\" + \"=\" * 80)\n",
    "print(\"REACT ANALYSIS SUMMARY\")\n",
    "print(\"=\" * 80)\n",
    "\n",
    "# Make sure we have the necessary variables\n",
    "if 'df' in locals() and 'revenue' in df.columns:\n",
    "    total_revenue = df['revenue'].sum()\n",
    "    print(f\"\\n📊 Total Revenue: ${total_revenue:,.2f}\")\n",
    "\n",
    "if 'product_summary' in locals():\n",
    "    best_product = product_summary['quantity'].idxmax()\n",
    "    best_quantity = product_summary.loc[best_product, 'quantity']\n",
    "    print(f\"🏆 Best-Selling Product: {best_product} ({int(best_quantity)} units)\")\n",
    "    print(f\"📦 Total Products: {len(product_summary)}\")\n",
    "\n",
    "if 'df' in locals():\n",
    "    print(f\"📈 Total Transactions: {len(df)}\")\n",
    "\n",
    "print(\"\\n✓ ReACT code generation and execution completed successfully!\")\n",
    "print(\"=\" * 80)"
   ]
  },
  {
   "cell_type": "markdown",
   "metadata": {},
   "source": [
    "## Key Takeaways\n",
    "\n",
    "**ReACT Prompting Benefits:**\n",
    "1. **Transparency** - Reasoning is explicitly stated before actions\n",
    "2. **Interpretability** - Easy to understand the AI's decision-making process\n",
    "3. **Debuggability** - Can identify where reasoning or actions went wrong\n",
    "4. **Trust** - Builds confidence by showing the \"why\" behind each action\n",
    "\n",
    "**What We Demonstrated:**\n",
    "- Used ReACT prompting to generate code with explicit reasoning\n",
    "- Extracted the generated code from the AI's response\n",
    "- Executed the AI-generated code to perform data analysis\n",
    "- The code generation followed the Thought → Action → Observation pattern\n",
    "\n",
    "**When to Use ReACT Prompting:**\n",
    "- Complex problem-solving tasks\n",
    "- Code generation requiring multiple steps\n",
    "- Tasks where understanding the reasoning is important\n",
    "- Educational contexts where you want to show thought process\n",
    "- Building AI agents that interact with tools and environments\n",
    "\n",
    "**Comparison to Regular Prompting:**\n",
    "- **Regular**: \"Generate code to analyze sales data\" → Code output only\n",
    "- **ReACT**: Shows thought → action → observation cycle, making the process transparent and the reasoning explicit"
   ]
  }
 ],
 "metadata": {
  "kernelspec": {
   "display_name": "Python 3",
   "language": "python",
   "name": "python3"
  },
  "language_info": {
   "codemirror_mode": {
    "name": "ipython",
    "version": 3
   },
   "file_extension": ".py",
   "mimetype": "text/x-python",
   "name": "python",
   "nbconvert_exporter": "python",
   "pygments_lexer": "ipython3",
   "version": "3.9.0"
  }
 },
 "nbformat": 4,
 "nbformat_minor": 4
}
