{
 "cells": [
  {
   "cell_type": "markdown",
   "metadata": {},
   "source": [
    "# Task 3: Self-Reflection Prompt for Improving Output\n",
    "\n",
    "## Overview\n",
    "This notebook demonstrates **self-reflection (Reflexion)** prompting, where the AI critiques and improves its own outputs. The model acts as both creator and critic, iteratively refining its responses.\n",
    "\n",
    "## Self-Reflection Pattern\n",
    "1. **Generate**: Create an initial output\n",
    "2. **Critique**: Analyze strengths and weaknesses\n",
    "3. **Improve**: Generate an enhanced version based on the critique\n",
    "\n",
    "## Use Case\n",
    "Generate a summary of a technical concept, then have the AI critique and improve it."
   ]
  },
  {
   "cell_type": "code",
   "execution_count": 1,
   "metadata": {},
   "outputs": [
    {
     "name": "stdout",
     "output_type": "stream",
     "text": [
      "✓ Gemini client initialized successfully\n"
     ]
    }
   ],
   "source": [
    "# Import required libraries\n",
    "import os\n",
    "from google import genai\n",
    "from dotenv import load_dotenv\n",
    "\n",
    "# Load environment variables\n",
    "load_dotenv()\n",
    "\n",
    "# Initialize the Gemini client\n",
    "client = genai.Client(api_key=os.getenv('GEMINI_API_KEY'))\n",
    "\n",
    "print(\"✓ Gemini client initialized successfully\")"
   ]
  },
  {
   "cell_type": "markdown",
   "metadata": {},
   "source": [
    "## Step 1: Generate Initial Summary\n",
    "First, we'll ask the AI to create a summary of a technical concept."
   ]
  },
  {
   "cell_type": "code",
   "execution_count": 2,
   "metadata": {},
   "outputs": [
    {
     "name": "stdout",
     "output_type": "stream",
     "text": [
      "ORIGINAL SUMMARY:\n",
      "================================================================================\n",
      "API rate limiting restricts the number of requests a user or application can make to an API within a specific timeframe. This is crucial for protecting the API from abuse, preventing overload, and ensuring fair usage for all users.  Rate limiting is typically implemented by tracking API requests and rejecting requests that exceed the defined limit, often returning an error code indicating the limit has been reached. This helps maintain API stability and availability.\n",
      "\n",
      "================================================================================\n"
     ]
    }
   ],
   "source": [
    "initial_prompt = \"\"\"\n",
    "Summarize the concept of \"API Rate Limiting\" in 3-4 sentences. Explain what it is, why it's important, and how it works.\n",
    "\"\"\"\n",
    "\n",
    "response_1 = client.models.generate_content(\n",
    "    model='gemini-2.0-flash-exp',\n",
    "    contents=initial_prompt\n",
    ")\n",
    "\n",
    "original_summary = response_1.text\n",
    "\n",
    "print(\"ORIGINAL SUMMARY:\")\n",
    "print(\"=\" * 80)\n",
    "print(original_summary)\n",
    "print(\"=\" * 80)"
   ]
  },
  {
   "cell_type": "markdown",
   "metadata": {},
   "source": [
    "## Step 2: Self-Critique and Improvement\n",
    "Now we'll ask the AI to critique its own summary and generate an improved version."
   ]
  },
  {
   "cell_type": "code",
   "execution_count": 3,
   "metadata": {},
   "outputs": [
    {
     "name": "stdout",
     "output_type": "stream",
     "text": [
      "\n",
      "SELF-REFLECTION OUTPUT:\n",
      "================================================================================\n",
      "CRITIQUE:\n",
      "\n",
      "1.  **Clarity:** The summary is generally clear and easy to understand for someone familiar with APIs. However, it could benefit from slightly more explanation for a complete novice.\n",
      "\n",
      "2.  **Completeness:** The summary covers the core purpose and function of rate limiting but misses some important aspects, such as the different types of rate limiting (e.g., user-based, IP-based), how the timeframe is defined, and the variety of responses an API might return upon hitting a limit. It also doesn't mention the different algorithms used to implement rate limiting (e.g., token bucket, leaky bucket).\n",
      "\n",
      "3.  **Accuracy:** The information presented is accurate.\n",
      "\n",
      "4.  **Conciseness:** The summary is reasonably concise and avoids unnecessary jargon. It's a good length for a brief overview.\n",
      "\n",
      "**Strengths:**\n",
      "\n",
      "*   Clearly explains the purpose of rate limiting.\n",
      "*   Concise and easy to read.\n",
      "*   Accurately describes the general mechanism.\n",
      "\n",
      "**Weaknesses:**\n",
      "\n",
      "*   Lacks details about different types of rate limiting.\n",
      "*   Oversimplifies the response mechanisms to exceeded limits.\n",
      "*   Doesn't mention any implementation details (algorithms).\n",
      "\n",
      "IMPROVED SUMMARY:\n",
      "\n",
      "API rate limiting controls the number of requests a user or application can make to an API within a specific timeframe, such as per minute, hour, or day. This is essential for protecting the API from abuse (e.g., denial-of-service attacks), preventing overload, ensuring fair usage among all users, and managing costs. Rate limits can be applied based on various factors, including user ID, IP address, or API key. Typically, rate limiting is implemented by tracking API requests. When the defined limit is exceeded, the API rejects further requests, often returning an HTTP error code (e.g., 429 Too Many Requests) or a custom error message indicating the limit has been reached and when the limit will reset. Different algorithms, such as the token bucket or leaky bucket, are used to enforce these limits.\n",
      "\n",
      "================================================================================\n"
     ]
    }
   ],
   "source": [
    "reflection_prompt = f\"\"\"\n",
    "Review the following summary and critique it based on these criteria:\n",
    "1. Clarity - Is it easy to understand?\n",
    "2. Completeness - Does it cover all key aspects?\n",
    "3. Accuracy - Is the information correct?\n",
    "4. Conciseness - Is it appropriately brief without losing important details?\n",
    "\n",
    "Original Summary:\n",
    "{original_summary}\n",
    "\n",
    "Provide:\n",
    "1. A critique identifying specific strengths and weaknesses\n",
    "2. An improved version of the summary that addresses the weaknesses\n",
    "\n",
    "Format your response as:\n",
    "CRITIQUE:\n",
    "[Your detailed critique]\n",
    "\n",
    "IMPROVED SUMMARY:\n",
    "[Your enhanced version]\n",
    "\"\"\"\n",
    "\n",
    "response_2 = client.models.generate_content(\n",
    "    model='gemini-2.0-flash-exp',\n",
    "    contents=reflection_prompt\n",
    ")\n",
    "\n",
    "reflection_output = response_2.text\n",
    "\n",
    "print(\"\\nSELF-REFLECTION OUTPUT:\")\n",
    "print(\"=\" * 80)\n",
    "print(reflection_output)\n",
    "print(\"=\" * 80)"
   ]
  },
  {
   "cell_type": "markdown",
   "metadata": {},
   "source": [
    "## Comparison: Before and After\n",
    "Let's extract and compare the original and improved summaries side-by-side."
   ]
  },
  {
   "cell_type": "code",
   "execution_count": 4,
   "metadata": {},
   "outputs": [
    {
     "name": "stdout",
     "output_type": "stream",
     "text": [
      "\n",
      "================================================================================\n",
      "COMPARISON: ORIGINAL vs IMPROVED\n",
      "================================================================================\n",
      "\n",
      "📝 ORIGINAL SUMMARY:\n",
      "--------------------------------------------------------------------------------\n",
      "API rate limiting restricts the number of requests a user or application can make to an API within a specific timeframe. This is crucial for protecting the API from abuse, preventing overload, and ensuring fair usage for all users.  Rate limiting is typically implemented by tracking API requests and rejecting requests that exceed the defined limit, often returning an error code indicating the limit has been reached. This helps maintain API stability and availability.\n",
      "\n",
      "\n",
      "✨ IMPROVED SUMMARY:\n",
      "--------------------------------------------------------------------------------\n",
      "API rate limiting controls the number of requests a user or application can make to an API within a specific timeframe, such as per minute, hour, or day. This is essential for protecting the API from abuse (e.g., denial-of-service attacks), preventing overload, ensuring fair usage among all users, and managing costs. Rate limits can be applied based on various factors, including user ID, IP address, or API key. Typically, rate limiting is implemented by tracking API requests. When the defined limit is exceeded, the API rejects further requests, often returning an HTTP error code (e.g., 429 Too Many Requests) or a custom error message indicating the limit has been reached and when the limit will reset. Different algorithms, such as the token bucket or leaky bucket, are used to enforce these limits.\n",
      "================================================================================\n"
     ]
    }
   ],
   "source": [
    "# Extract the improved summary from the reflection output\n",
    "if \"IMPROVED SUMMARY:\" in reflection_output:\n",
    "    improved_summary = reflection_output.split(\"IMPROVED SUMMARY:\")[1].strip()\n",
    "else:\n",
    "    improved_summary = \"Could not extract improved summary\"\n",
    "\n",
    "print(\"\\n\" + \"=\" * 80)\n",
    "print(\"COMPARISON: ORIGINAL vs IMPROVED\")\n",
    "print(\"=\" * 80)\n",
    "print(\"\\n📝 ORIGINAL SUMMARY:\")\n",
    "print(\"-\" * 80)\n",
    "print(original_summary)\n",
    "print(\"\\n✨ IMPROVED SUMMARY:\")\n",
    "print(\"-\" * 80)\n",
    "print(improved_summary)\n",
    "print(\"=\" * 80)"
   ]
  },
  {
   "cell_type": "markdown",
   "metadata": {},
   "source": [
    "## Additional Example: Multi-Round Reflection\n",
    "Let's demonstrate multiple rounds of self-reflection to further improve the output."
   ]
  },
  {
   "cell_type": "code",
   "execution_count": 5,
   "metadata": {},
   "outputs": [
    {
     "name": "stdout",
     "output_type": "stream",
     "text": [
      "\n",
      "🎯 FINAL SUMMARY (After 2 Rounds of Reflection):\n",
      "================================================================================\n",
      "API rate limiting is a critical mechanism for safeguarding APIs by controlling the volume of requests a user or application can make within a given timeframe (e.g., per minute or hour). Imagine a popular e-commerce API: Without rate limiting, a malicious bot could flood the API with requests, potentially crashing the service and preventing legitimate users from accessing it. Rate limiting prevents this abuse, protects against denial-of-service (DoS) attacks, and ensures fair resource allocation. These limits are typically enforced based on user ID, API key, or IP address. When a limit is exceeded, the API responds with a \"429 Too Many Requests\" error, informing the user to retry after a specific period. Algorithms like the token bucket or leaky bucket are commonly used to implement these controls, providing nuanced approaches to traffic shaping and API protection.\n",
      "\n",
      "================================================================================\n"
     ]
    }
   ],
   "source": [
    "# Second round of reflection\n",
    "second_reflection_prompt = f\"\"\"\n",
    "Review this improved summary one more time and make it even better by:\n",
    "1. Adding a concrete example if missing\n",
    "2. Ensuring technical accuracy\n",
    "3. Making it more engaging while staying concise\n",
    "\n",
    "Current Summary:\n",
    "{improved_summary}\n",
    "\n",
    "Provide only the final improved version without critique.\n",
    "\"\"\"\n",
    "\n",
    "response_3 = client.models.generate_content(\n",
    "    model='gemini-2.0-flash-exp',\n",
    "    contents=second_reflection_prompt\n",
    ")\n",
    "\n",
    "final_summary = response_3.text\n",
    "\n",
    "print(\"\\n🎯 FINAL SUMMARY (After 2 Rounds of Reflection):\")\n",
    "print(\"=\" * 80)\n",
    "print(final_summary)\n",
    "print(\"=\" * 80)"
   ]
  },
  {
   "cell_type": "markdown",
   "metadata": {},
   "source": [
    "## Demonstrating with a Different Topic\n",
    "Let's apply self-reflection to another technical concept to show the technique's versatility."
   ]
  },
  {
   "cell_type": "code",
   "execution_count": 6,
   "metadata": {},
   "outputs": [
    {
     "name": "stdout",
     "output_type": "stream",
     "text": [
      "Example 2: Docker Containers\n",
      "\n",
      "📝 Initial Summary:\n",
      "--------------------------------------------------------------------------------\n",
      "Docker containers are like lightweight, self-contained packages that hold everything an application needs to run, including code, libraries, and settings. They isolate applications from each other and the underlying operating system, ensuring consistency across different environments. This means your application will run the same way on your computer as it does on a server, regardless of the underlying infrastructure. Think of them like shipping containers for software, making deployment and scaling much easier.\n",
      "\n",
      "--------------------------------------------------------------------------------\n"
     ]
    }
   ],
   "source": [
    "# Generate initial summary for a different topic\n",
    "topic_prompt = \"\"\"\n",
    "Explain \"Docker containers\" in 3-4 sentences for someone new to software development.\n",
    "\"\"\"\n",
    "\n",
    "response_docker_1 = client.models.generate_content(\n",
    "    model='gemini-2.0-flash-exp',\n",
    "    contents=topic_prompt\n",
    ")\n",
    "\n",
    "docker_summary_v1 = response_docker_1.text\n",
    "\n",
    "print(\"Example 2: Docker Containers\")\n",
    "print(\"\\n📝 Initial Summary:\")\n",
    "print(\"-\" * 80)\n",
    "print(docker_summary_v1)\n",
    "print(\"-\" * 80)"
   ]
  },
  {
   "cell_type": "code",
   "execution_count": 7,
   "metadata": {},
   "outputs": [
    {
     "name": "stdout",
     "output_type": "stream",
     "text": [
      "\n",
      "🔍 Self-Reflection Process:\n",
      "================================================================================\n",
      "**CRITIQUE:**\n",
      "\n",
      "The explanation is generally good for a beginner, but it could be improved by simplifying some of the language and adding a stronger analogy.\n",
      "\n",
      "*   **Beginner-Friendly:** Mostly yes. However, \"underlying operating system\" might be slightly confusing.\n",
      "*   **Technical Terms:** \"Underlying infrastructure\" could be simplified. \"Libraries\" could be explained very briefly, especially for someone completely new to development.\n",
      "*   **Analogy:** The \"shipping containers\" analogy is good, but it could be pushed further to be more impactful. It needs to highlight the advantage of *standardization* that both shipping containers and Docker containers provide.\n",
      "*   **Missing:** While the explanation touches on isolation and consistency, it doesn't explicitly mention *portability* as a key benefit, which is closely tied to the container's self-contained nature. Also, it doesn't touch upon the *speed* and *efficiency* benefits compared to traditional Virtual Machines.\n",
      "\n",
      "**IMPROVED VERSION:**\n",
      "\n",
      "Imagine you're moving houses. Instead of carefully packing each item individually and hoping everything fits into the new house, you use shipping containers. These containers are standardized: anything can fit inside, and any ship or truck can carry them.\n",
      "\n",
      "Docker containers are similar! They're like lightweight, self-contained packages that hold everything your application needs to run, including its code, the tools and \"libraries\" (think of them as pre-made pieces of code) it needs, and its settings.\n",
      "\n",
      "Docker containers keep applications separate from each other and from the computer's operating system – it's like each app has its own little dedicated space. This guarantees consistency, so your application will run exactly the same way on your computer, on someone else's computer, or on a large server, no matter what. This makes it incredibly easy to move (portable), deploy, and scale your applications. It's also much faster and uses fewer resources than running apps in full virtual machines.\n",
      "\n",
      "================================================================================\n"
     ]
    }
   ],
   "source": [
    "# Apply self-reflection\n",
    "docker_reflection_prompt = f\"\"\"\n",
    "Critique this explanation of Docker containers for a beginner:\n",
    "\n",
    "{docker_summary_v1}\n",
    "\n",
    "Consider:\n",
    "- Is it beginner-friendly?\n",
    "- Are there any technical terms that need simplification?\n",
    "- Would an analogy help?\n",
    "- Is anything important missing?\n",
    "\n",
    "Provide:\n",
    "CRITIQUE: [Your analysis]\n",
    "IMPROVED VERSION: [Better explanation]\n",
    "\"\"\"\n",
    "\n",
    "response_docker_2 = client.models.generate_content(\n",
    "    model='gemini-2.0-flash-exp',\n",
    "    contents=docker_reflection_prompt\n",
    ")\n",
    "\n",
    "docker_reflection = response_docker_2.text\n",
    "\n",
    "print(\"\\n🔍 Self-Reflection Process:\")\n",
    "print(\"=\" * 80)\n",
    "print(docker_reflection)\n",
    "print(\"=\" * 80)"
   ]
  },
  {
   "cell_type": "markdown",
   "metadata": {},
   "source": [
    "## Summary: Self-Reflection Effectiveness"
   ]
  },
  {
   "cell_type": "code",
   "execution_count": 8,
   "metadata": {},
   "outputs": [
    {
     "name": "stdout",
     "output_type": "stream",
     "text": [
      "\n",
      "================================================================================\n",
      "SELF-REFLECTION PROMPTING SUMMARY\n",
      "================================================================================\n",
      "\n",
      "✓ Demonstrated iterative improvement through self-critique\n",
      "✓ Applied to multiple topics (API Rate Limiting, Docker Containers)\n",
      "✓ Showed multi-round reflection for continuous refinement\n",
      "\n",
      "Key Insight: Each reflection cycle identified specific weaknesses and\n",
      "generated measurably better outputs.\n",
      "================================================================================\n"
     ]
    }
   ],
   "source": [
    "print(\"\\n\" + \"=\" * 80)\n",
    "print(\"SELF-REFLECTION PROMPTING SUMMARY\")\n",
    "print(\"=\" * 80)\n",
    "print(\"\\n✓ Demonstrated iterative improvement through self-critique\")\n",
    "print(\"✓ Applied to multiple topics (API Rate Limiting, Docker Containers)\")\n",
    "print(\"✓ Showed multi-round reflection for continuous refinement\")\n",
    "print(\"\\nKey Insight: Each reflection cycle identified specific weaknesses and\")\n",
    "print(\"generated measurably better outputs.\")\n",
    "print(\"=\" * 80)"
   ]
  },
  {
   "cell_type": "markdown",
   "metadata": {},
   "source": [
    "## Key Takeaways\n",
    "\n",
    "**Self-Reflection Prompting Benefits:**\n",
    "1. **Quality Improvement** - Outputs get progressively better with each iteration\n",
    "2. **Self-Correction** - AI identifies and fixes its own mistakes\n",
    "3. **No Additional Training** - Improves outputs without fine-tuning\n",
    "4. **Transparency** - Shows what aspects were improved and why\n",
    "5. **Versatility** - Works across different types of content and domains\n",
    "\n",
    "**When to Use Self-Reflection:**\n",
    "- Content creation that needs high quality (articles, summaries, documentation)\n",
    "- Code review and optimization\n",
    "- Problem-solving where initial solutions may be suboptimal\n",
    "- Educational contexts to show improvement process\n",
    "- Any task where quality matters more than speed\n",
    "\n",
    "**Best Practices:**\n",
    "1. **Specific Criteria** - Define clear evaluation dimensions (clarity, accuracy, etc.)\n",
    "2. **Structured Format** - Use consistent format (CRITIQUE → IMPROVED VERSION)\n",
    "3. **Multiple Rounds** - Consider 2-3 rounds for complex tasks\n",
    "4. **Cost vs Quality** - Balance API calls with quality needs\n",
    "\n",
    "**Research Findings:**\n",
    "- Even GPT-4 shows significant improvement with self-reflection\n",
    "- Reflexion agents improve performance on decision-making, reasoning, and coding tasks\n",
    "- Self-refine leads to measurable gains in sentiment analysis and code optimization\n",
    "\n",
    "**Comparison to Regular Prompting:**\n",
    "- **Regular**: Single generation → Done\n",
    "- **Self-Reflection**: Generate → Critique → Improve → (Repeat) → Higher quality output"
   ]
  }
 ],
 "metadata": {
  "kernelspec": {
   "display_name": ".venv",
   "language": "python",
   "name": "python3"
  },
  "language_info": {
   "codemirror_mode": {
    "name": "ipython",
    "version": 3
   },
   "file_extension": ".py",
   "mimetype": "text/x-python",
   "name": "python",
   "nbconvert_exporter": "python",
   "pygments_lexer": "ipython3",
   "version": "3.13.7"
  }
 },
 "nbformat": 4,
 "nbformat_minor": 4
}
