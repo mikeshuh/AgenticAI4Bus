{
 "cells": [
  {
   "cell_type": "markdown",
   "metadata": {},
   "source": [
    "# Task 1: Prompt Chaining for Customer Support AI\n",
    "\n",
    "## Overview\n",
    "This notebook demonstrates **prompt chaining**, a technique where complex tasks are broken down into sequential steps. Each step's output feeds into the next, creating a chain of prompts that work together.\n",
    "\n",
    "## Use Case\n",
    "We'll build a customer support system with 4 chained steps:\n",
    "1. **Intent Classification** - Identify the issue type\n",
    "2. **Information Gathering** - Extract key details\n",
    "3. **Solution Generation** - Create a solution\n",
    "4. **Response Formatting** - Format as professional response"
   ]
  },
  {
   "cell_type": "code",
   "execution_count": 1,
   "metadata": {},
   "outputs": [
    {
     "name": "stdout",
     "output_type": "stream",
     "text": [
      "✓ Gemini client initialized successfully\n"
     ]
    }
   ],
   "source": [
    "# Import required libraries\n",
    "import os\n",
    "from google import genai\n",
    "from dotenv import load_dotenv\n",
    "\n",
    "# Load environment variables\n",
    "load_dotenv()\n",
    "\n",
    "# Initialize the Gemini client\n",
    "client = genai.Client(api_key=os.getenv('GEMINI_API_KEY'))\n",
    "\n",
    "print(\"✓ Gemini client initialized successfully\")"
   ]
  },
  {
   "cell_type": "markdown",
   "metadata": {},
   "source": [
    "## Sample Customer Message\n",
    "Let's define a customer support query to process through our chain:"
   ]
  },
  {
   "cell_type": "code",
   "execution_count": 2,
   "metadata": {},
   "outputs": [
    {
     "name": "stdout",
     "output_type": "stream",
     "text": [
      "Customer Message:\n",
      "\n",
      "Hi, I've been trying to log into my account for the past hour but keep getting an error message \n",
      "saying 'Invalid credentials'. I'm sure my password is correct because I saved it in my password \n",
      "manager. I tried resetting it twice but I'm not receiving the reset emails. This is really \n",
      "frustrating because I need to access my account urgently for an important project deadline.\n",
      "\n"
     ]
    }
   ],
   "source": [
    "customer_message = \"\"\"\n",
    "Hi, I've been trying to log into my account for the past hour but keep getting an error message \n",
    "saying 'Invalid credentials'. I'm sure my password is correct because I saved it in my password \n",
    "manager. I tried resetting it twice but I'm not receiving the reset emails. This is really \n",
    "frustrating because I need to access my account urgently for an important project deadline.\n",
    "\"\"\"\n",
    "\n",
    "print(\"Customer Message:\")\n",
    "print(customer_message)"
   ]
  },
  {
   "cell_type": "markdown",
   "metadata": {},
   "source": [
    "## Step 1: Intent Classification\n",
    "First, we classify the customer's intent to understand what type of issue they're facing."
   ]
  },
  {
   "cell_type": "code",
   "execution_count": 3,
   "metadata": {},
   "outputs": [
    {
     "name": "stdout",
     "output_type": "stream",
     "text": [
      "Step 1 - Intent Classification: Account Access\n",
      "------------------------------------------------------------\n"
     ]
    }
   ],
   "source": [
    "# Prompt 1: Classify the intent\n",
    "intent_prompt = f\"\"\"\n",
    "You are a customer support intent classifier. Analyze the following customer message and classify it into one of these categories: Technical Issue, Billing Question, Feature Request, Account Access, or General Inquiry.\n",
    "\n",
    "Customer Message: {customer_message}\n",
    "\n",
    "Respond with ONLY the category name.\n",
    "\"\"\"\n",
    "\n",
    "response_1 = client.models.generate_content(\n",
    "    model='gemini-2.0-flash-exp',\n",
    "    contents=intent_prompt\n",
    ")\n",
    "\n",
    "intent = response_1.text.strip()\n",
    "print(f\"Step 1 - Intent Classification: {intent}\")\n",
    "print(\"-\" * 60)"
   ]
  },
  {
   "cell_type": "markdown",
   "metadata": {},
   "source": [
    "## Step 2: Information Gathering\n",
    "Extract key details and identify missing information needed to solve the issue."
   ]
  },
  {
   "cell_type": "code",
   "execution_count": 4,
   "metadata": {},
   "outputs": [
    {
     "name": "stdout",
     "output_type": "stream",
     "text": [
      "Step 2 - Information Gathering:\n",
      "Here's a structured summary of the key details and missing information, based on the customer message and intent:\n",
      "\n",
      "**1. Key Details Mentioned:**\n",
      "\n",
      "*   **Problem:** Unable to log into account.\n",
      "*   **Error Message:** \"Invalid credentials\"\n",
      "*   **Password Certainty:** Believes password is correct because it's saved in a password manager.\n",
      "*   **Troubleshooting Steps Taken:** Attempted password reset twice.\n",
      "*   **Problem with Troubleshooting:** Not receiving password reset emails.\n",
      "*   **Urgency:** Needs access urgently due to an important project deadline.\n",
      "\n",
      "**2. Missing Information Needed:**\n",
      "\n",
      "*   **Username or Email Address:** What username or email address is the customer using to log in? (This is the most crucial piece of missing information)\n",
      "*   **Account Type/Platform:** What platform or service is the customer trying to access (e.g., website name, app name)? Knowing this ensures the correct troubleshooting steps are taken.\n",
      "*   **Account Creation Date:** When was the account created? This can help verify the customer's identity if other methods fail.\n",
      "*   **Password Manager Used:** Which password manager is the customer using? (While they believe their password is correct, knowing the password manager could help identify potential compatibility issues, but it's less critical)\n",
      "*   **Time of password reset attempts:** What time were the password resets tried? It can confirm the reset emails are not being delayed.\n",
      "\n",
      "------------------------------------------------------------\n"
     ]
    }
   ],
   "source": [
    "# Prompt 2: Extract information\n",
    "info_prompt = f\"\"\"\n",
    "Based on the customer message below and its classified intent, extract the key information needed to resolve this issue. List the specific details mentioned and any missing information that should be asked.\n",
    "\n",
    "Intent: {intent}\n",
    "Customer Message: {customer_message}\n",
    "\n",
    "Provide a structured summary of:\n",
    "1. Key details mentioned\n",
    "2. Missing information needed\n",
    "\"\"\"\n",
    "\n",
    "response_2 = client.models.generate_content(\n",
    "    model='gemini-2.0-flash-exp',\n",
    "    contents=info_prompt\n",
    ")\n",
    "\n",
    "extracted_info = response_2.text\n",
    "print(\"Step 2 - Information Gathering:\")\n",
    "print(extracted_info)\n",
    "print(\"-\" * 60)"
   ]
  },
  {
   "cell_type": "markdown",
   "metadata": {},
   "source": [
    "## Step 3: Solution Generation\n",
    "Generate a solution based on the classified intent and extracted information."
   ]
  },
  {
   "cell_type": "code",
   "execution_count": 5,
   "metadata": {},
   "outputs": [
    {
     "name": "stdout",
     "output_type": "stream",
     "text": [
      "Step 3 - Solution Generation:\n",
      "Okay, here's a solution to address the customer's account access issue, broken down into steps:\n",
      "\n",
      "**Step 1: Initial Response and Empathy**\n",
      "\n",
      "> \"Hi there, I understand how frustrating it is to be locked out of your account, especially with an urgent project deadline. I'm sorry you're experiencing this. I'll do my best to help you regain access as quickly as possible.\"\n",
      "\n",
      "**Step 2: Gather Missing Information (Politely and Efficiently)**\n",
      "\n",
      "> \"To help me troubleshoot this, could you please provide the following information?\n",
      "> *   **Your username or email address** associated with the account.\n",
      "> *   **The name of the platform or service** you're trying to access (e.g., website name, app name).\n",
      "> *   **Approximately when you created the account**?\n",
      "> *   **What time did you attempt the password resets?**\"\n",
      "\n",
      "**Step 3: Address Potential Email Delivery Issues (While Waiting for Information)**\n",
      "\n",
      "> \"While I wait for that information, let's check a few common causes for missing password reset emails:\n",
      "> *   **Check your spam/junk folder:** Sometimes, these emails can end up there.\n",
      "> *   **Check your email filters/rules:** Ensure there aren't any filters that might be redirecting emails from [Your Company/Platform Name].\n",
      "> *   **Double-check your email address:** Make sure you're checking the correct email inbox.  It's easy to accidentally mistype the address.\"\n",
      "\n",
      "**Step 4: Once Information is Received, Begin Troubleshooting (Adapt this section based on the specific platform):**\n",
      "\n",
      "**Scenario A: If the Username/Email Address Doesn't Exist:**\n",
      "\n",
      "> \"Thank you for providing that information. I've checked our system, and it appears that the username/email address you provided isn't currently associated with an active account. Could there be a slight typo in the email address, or is it possible you used a different email address when you originally signed up? Could you also verify the platform you are trying to access in case you have signed up with other platforms with a different address?\"\n",
      "\n",
      "**Scenario B: If the Username/Email Address Exists and the Platform is Known (Most Likely Scenario):**\n",
      "\n",
      "> \"Thank you for providing that information. I'm looking into your account now. Since you're not receiving the password reset emails, here are a few things we can try:\n",
      ">\n",
      "> *   **(Option 1: Initiate a password reset manually):** \"I've manually triggered a password reset email to your address. Please check your inbox (and spam folder) again. It should arrive within a few minutes.\"  **(Monitor to ensure the email is sent from the backend)**\n",
      "> *   **(Option 2: Check Account Status):** \"I've checked your account status and it is active. There is a possibility of delay in sending emails due to technical issues. Let me generate a temporary password for you to log in.\" **(Provide a temporary password and instructions on how to change it immediately after logging in).**\n",
      "> *   **(Option 3: If security protocols allow and the customer has verified their identity by providing the creation date and platform):**\"For your security, I can't directly share your password. However, I can help you update your email address associated with your account. We'll send a verification code to a new email address so you can initiate a password reset. Would you like to proceed with that?\" (Only do this if the platform allows it and the customer has sufficiently verified their identity).\n",
      "> *   **(Option 4: If two-factor authentication is enabled):** \"I see that two-factor authentication (2FA) is enabled on your account. If you have access to your 2FA device or backup codes, you can use those to log in.\" If the customer cannot access their 2FA device, offer assistance with the recovery process (which usually involves contacting support and providing verification information).\n",
      ">\n",
      "> **After attempting these solutions, ask:** \"Please let me know if you receive the email or if you're able to log in with the temporary password. If you're still having trouble, we can explore other options.\"\n",
      "\n",
      "**Step 5: If the Customer Still Can't Access the Account After Troubleshooting:**\n",
      "\n",
      "> \"I understand that you're still unable to access your account. To ensure we can properly verify your identity and protect your account, I'll need to escalate this issue to our dedicated account recovery team. They may require some additional information from you to confirm your ownership of the account.  They'll contact you within [Timeframe - e.g., 24-48 hours] with further instructions.  Could you please provide a contact number so they can reach out to you?\"\n",
      "\n",
      "**Step 6: Follow-up (If Necessary):**\n",
      "\n",
      "> \"To ensure your issue is resolved, I will follow up with you in [Timeframe - e.g., 24 hours] to check on the status of your account recovery. In the meantime, if you have any questions, please don't hesitate to ask.\"\n",
      "\n",
      "**Key Considerations:**\n",
      "\n",
      "*   **Security:** Never directly ask for or share the customer's password.\n",
      "*   **Empathy:** Acknowledge the customer's frustration and urgency.\n",
      "*   **Clear Communication:** Provide clear, step-by-step instructions.\n",
      "*   **Platform Specificity:** Adapt the troubleshooting steps to the specific platform the customer is using.\n",
      "*   **Account Recovery Team:** Know the process for escalating account recovery issues.\n",
      "*   **Documentation:** Document all steps taken and the information provided by the customer for future reference.\n",
      "*   **Compliance:** Ensure all actions comply with your company's security and privacy policies.\n",
      "This comprehensive approach should help resolve the customer's account access issue while providing a positive support experience. Remember to tailor the specific troubleshooting steps to the platform the customer is using.\n",
      "\n",
      "------------------------------------------------------------\n"
     ]
    }
   ],
   "source": [
    "# Prompt 3: Generate solution\n",
    "solution_prompt = f\"\"\"\n",
    "Generate a solution for this customer support case:\n",
    "\n",
    "Intent: {intent}\n",
    "Customer Message: {customer_message}\n",
    "Key Information: {extracted_info}\n",
    "\n",
    "Provide a clear, step-by-step solution or answer to address the customer's needs.\n",
    "\"\"\"\n",
    "\n",
    "response_3 = client.models.generate_content(\n",
    "    model='gemini-2.0-flash-exp',\n",
    "    contents=solution_prompt\n",
    ")\n",
    "\n",
    "solution = response_3.text\n",
    "print(\"Step 3 - Solution Generation:\")\n",
    "print(solution)\n",
    "print(\"-\" * 60)"
   ]
  },
  {
   "cell_type": "markdown",
   "metadata": {},
   "source": [
    "## Step 4: Response Formatting\n",
    "Format the solution as a professional, empathetic customer service response."
   ]
  },
  {
   "cell_type": "code",
   "execution_count": 6,
   "metadata": {},
   "outputs": [
    {
     "name": "stdout",
     "output_type": "stream",
     "text": [
      "Step 4 - Final Customer Response:\n",
      "============================================================\n",
      "Subject: Regarding your account access issue\n",
      "\n",
      "Hi [Customer Name, if available, otherwise leave blank],\n",
      "\n",
      "I understand how frustrating it is to be locked out of your account, especially with an urgent project deadline. I'm truly sorry you're experiencing this and I want to assure you I'll do my best to help you regain access as quickly as possible.\n",
      "\n",
      "First, let's try to pinpoint what might be happening. Could you please provide me with the following information? This will help me investigate further:\n",
      "\n",
      "*   **Your username or email address** associated with the account.\n",
      "*   **The name of the platform or service** you're trying to access (e.g., website name, app name).\n",
      "*   **Approximately when you created the account**? (Month/Year is sufficient).\n",
      "*   **What time did you attempt the password resets?** (Approximately).\n",
      "\n",
      "While I wait for that information, let's check a few common causes for missing password reset emails:\n",
      "\n",
      "*   **Check your spam/junk folder:** Sometimes, these emails can end up there.\n",
      "*   **Check your email filters/rules:** Ensure there aren't any filters that might be redirecting emails from [Your Company/Platform Name].\n",
      "*   **Double-check your email address:** Make sure you're checking the correct email inbox. It's easy to accidentally mistype the address.\n",
      "\n",
      "Once I receive the information above, I can dig deeper into your account. In the meantime, here are potential solutions based on common scenarios:\n",
      "\n",
      "**(Scenario A: If the Username/Email Address Doesn't Exist (I'll only proceed with this if the provided information warrants it)):**\n",
      "\n",
      "\"Thank you for providing that information. I've checked our system, and it appears that the username/email address you provided isn't currently associated with an active account. Could there be a slight typo in the email address, or is it possible you used a different email address when you originally signed up? Could you also verify the platform you are trying to access in case you have signed up with other platforms with a different address?\"\n",
      "\n",
      "**(Scenario B: If the Username/Email Address Exists and the Platform is Known (Most Likely Scenario - I will tailor this to our capabilities)):**\n",
      "\n",
      "\"Thank you for providing that information. I'm looking into your account now. Since you're not receiving the password reset emails, here are a few things we can try:\n",
      "\n",
      "*   **(Option 1: Initiate a password reset manually):** I've manually triggered a password reset email to your address. Please check your inbox (and spam folder) again. It should arrive within a few minutes.\" (I will monitor to ensure the email is sent from our backend.)\n",
      "*   **(Option 2: Check Account Status and Generate Temporary Password):** I've checked your account status and it is active. There is a possibility of delay in sending emails due to technical issues. Let me generate a temporary password for you to log in. **[Provide a temporary password here]**. Please log in using this temporary password and then immediately change your password to something you'll easily remember: [Provide instructions on how to change the password after logging in].\n",
      "*   **(Option 3: Update Email Address (If Security Protocols Allow and Customer Has Verified Identity):** For your security, I can't directly share your password. However, I can help you update your email address associated with your account. We'll send a verification code to a new email address so you can initiate a password reset. Would you like to proceed with that?\" (I'll only do this if the platform allows it and you have sufficiently verified your identity).\n",
      "*   **(Option 4: Two-Factor Authentication (If Enabled):** I see that two-factor authentication (2FA) is enabled on your account. If you have access to your 2FA device or backup codes, you can use those to log in. If you don't have access to your 2FA device, I'll guide you through our account recovery process, which will involve providing some verification information.\"\n",
      "\n",
      "Please let me know if you receive the email (if I sent one) or if you're able to log in with the temporary password (if I provided one). If you're still having trouble, we can explore other options.\n",
      "\n",
      "If none of these steps work, and you're still unable to access your account, I will need to escalate this to our dedicated account recovery team. To ensure we can properly verify your identity and protect your account, they may require some additional information from you to confirm your ownership. They'll contact you within 24-48 hours with further instructions. Could you please provide a contact number so they can reach out to you directly?\n",
      "\n",
      "To ensure your issue is resolved, I will follow up with you in 24 hours to check on the status of your account recovery. In the meantime, if you have any questions, please don't hesitate to ask.\n",
      "\n",
      "Thank you for your patience and understanding. I look forward to helping you get back into your account!\n",
      "\n",
      "Sincerely,\n",
      "\n",
      "[Your Name]\n",
      "\n",
      "[Your Title/Department]\n",
      "[Your Company Name]\n",
      "\n",
      "============================================================\n"
     ]
    }
   ],
   "source": [
    "# Prompt 4: Format response\n",
    "format_prompt = f\"\"\"\n",
    "Format the following solution as a professional, empathetic customer support response:\n",
    "\n",
    "Customer Issue: {customer_message}\n",
    "Solution: {solution}\n",
    "\n",
    "Create a complete response that:\n",
    "- Acknowledges the customer's concern\n",
    "- Provides the solution clearly\n",
    "- Offers additional help\n",
    "- Maintains a professional and friendly tone\n",
    "\"\"\"\n",
    "\n",
    "response_4 = client.models.generate_content(\n",
    "    model='gemini-2.0-flash-exp',\n",
    "    contents=format_prompt\n",
    ")\n",
    "\n",
    "final_response = response_4.text\n",
    "print(\"Step 4 - Final Customer Response:\")\n",
    "print(\"=\" * 60)\n",
    "print(final_response)\n",
    "print(\"=\" * 60)"
   ]
  },
  {
   "cell_type": "markdown",
   "metadata": {},
   "source": [
    "## Summary: The Complete Chain\n",
    "Let's visualize the entire prompt chain:"
   ]
  },
  {
   "cell_type": "code",
   "execution_count": 7,
   "metadata": {},
   "outputs": [
    {
     "name": "stdout",
     "output_type": "stream",
     "text": [
      "\n",
      "📋 PROMPT CHAIN SUMMARY\n",
      "\n",
      "Input: Customer Message\n",
      "   → \n",
      "Hi, I've been trying to log into my account for the past hour but keep getting ...\n",
      "\n",
      "Chain Step 1: Intent Classification\n",
      "   → Account Access\n",
      "\n",
      "Chain Step 2: Information Gathering\n",
      "   → Extracted key details and missing info\n",
      "\n",
      "Chain Step 3: Solution Generation\n",
      "   → Created step-by-step solution\n",
      "\n",
      "Chain Step 4: Response Formatting\n",
      "   → Professional customer response\n",
      "\n",
      "✓ Prompt chain completed successfully!\n"
     ]
    }
   ],
   "source": [
    "print(\"\\n📋 PROMPT CHAIN SUMMARY\\n\")\n",
    "print(f\"Input: Customer Message\\n   → {customer_message[:80]}...\\n\")\n",
    "print(f\"Chain Step 1: Intent Classification\\n   → {intent}\\n\")\n",
    "print(f\"Chain Step 2: Information Gathering\\n   → Extracted key details and missing info\\n\")\n",
    "print(f\"Chain Step 3: Solution Generation\\n   → Created step-by-step solution\\n\")\n",
    "print(f\"Chain Step 4: Response Formatting\\n   → Professional customer response\\n\")\n",
    "print(\"✓ Prompt chain completed successfully!\")"
   ]
  },
  {
   "cell_type": "markdown",
   "metadata": {},
   "source": [
    "## Key Takeaways\n",
    "\n",
    "**Prompt Chaining Benefits:**\n",
    "1. **Modularity** - Each step handles a specific task\n",
    "2. **Transparency** - Easy to debug and understand each step\n",
    "3. **Flexibility** - Steps can be modified independently\n",
    "4. **Reliability** - Breaking complex tasks into smaller pieces improves accuracy\n",
    "\n",
    "**When to Use Prompt Chaining:**\n",
    "- Complex multi-step workflows\n",
    "- Tasks requiring different types of reasoning\n",
    "- When intermediate outputs need validation\n",
    "- Building maintainable AI systems"
   ]
  }
 ],
 "metadata": {
  "kernelspec": {
   "display_name": ".venv",
   "language": "python",
   "name": "python3"
  },
  "language_info": {
   "codemirror_mode": {
    "name": "ipython",
    "version": 3
   },
   "file_extension": ".py",
   "mimetype": "text/x-python",
   "name": "python",
   "nbconvert_exporter": "python",
   "pygments_lexer": "ipython3",
   "version": "3.13.7"
  }
 },
 "nbformat": 4,
 "nbformat_minor": 4
}
